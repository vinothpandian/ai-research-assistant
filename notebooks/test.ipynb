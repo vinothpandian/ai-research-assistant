{
 "cells": [
  {
   "cell_type": "code",
   "execution_count": 1,
   "id": "initial_id",
   "metadata": {
    "collapsed": true,
    "ExecuteTime": {
     "end_time": "2023-12-28T21:33:35.652654Z",
     "start_time": "2023-12-28T21:33:35.570731Z"
    }
   },
   "outputs": [],
   "source": [
    "import json\n",
    "\n",
    "import httpx"
   ]
  },
  {
   "cell_type": "code",
   "outputs": [],
   "source": [
    "data = httpx.post(\"http://localhost:11434/api/embeddings\", json={\"model\": \"orca-mini\", \"prompt\": \"test\", \"stream\": False}).json()"
   ],
   "metadata": {
    "collapsed": false,
    "ExecuteTime": {
     "end_time": "2023-12-28T21:34:03.690835Z",
     "start_time": "2023-12-28T21:33:59.731785Z"
    }
   },
   "id": "348cddbcbb3e4e51",
   "execution_count": 3
  },
  {
   "cell_type": "code",
   "outputs": [
    {
     "data": {
      "text/plain": "3200"
     },
     "execution_count": 5,
     "metadata": {},
     "output_type": "execute_result"
    }
   ],
   "source": [
    "len(data['embedding'])"
   ],
   "metadata": {
    "collapsed": false,
    "ExecuteTime": {
     "end_time": "2023-12-28T21:34:09.457044Z",
     "start_time": "2023-12-28T21:34:09.385377Z"
    }
   },
   "id": "c4e3b8734fcd28",
   "execution_count": 5
  },
  {
   "cell_type": "code",
   "execution_count": 6,
   "id": "58a56b0803ccc3d0",
   "metadata": {
    "ExecuteTime": {
     "end_time": "2023-12-28T03:50:54.712877Z",
     "start_time": "2023-12-28T03:50:54.709667Z"
    },
    "collapsed": false
   },
   "outputs": [],
   "source": [
    "# data = httpx.post(\"http://localhost:11434/api/embeddings\", json={\"model\": \"dolphin-phi\", \"prompt\": \"test\", \"stream\": False}).json()"
   ]
  },
  {
   "cell_type": "code",
   "execution_count": 7,
   "id": "1d0c3232dc797e43",
   "metadata": {
    "ExecuteTime": {
     "end_time": "2023-12-28T03:50:54.905526Z",
     "start_time": "2023-12-28T03:50:54.891973Z"
    },
    "collapsed": false
   },
   "outputs": [],
   "source": [
    "# print(len(data['embedding']))"
   ]
  },
  {
   "cell_type": "code",
   "execution_count": 8,
   "id": "f3f05fdbe304161a",
   "metadata": {
    "ExecuteTime": {
     "end_time": "2023-12-28T03:50:55.092184Z",
     "start_time": "2023-12-28T03:50:55.066306Z"
    },
    "collapsed": false
   },
   "outputs": [],
   "source": [
    "data = httpx.get(\"http://localhost:8000/arxiv/search/?q=test&start=0&limit=10\").json()"
   ]
  },
  {
   "cell_type": "code",
   "execution_count": 9,
   "id": "ed683eec",
   "metadata": {},
   "outputs": [],
   "source": [
    "# cleanup existing data\n",
    "response = httpx.get(\"http://localhost:8000/articles/\").json()\n",
    "\n",
    "for item in response['items']:\n",
    "    httpx.delete(f\"http://localhost:8000/articles/?article_id={item['id']}\")"
   ]
  },
  {
   "cell_type": "code",
   "execution_count": 5,
   "id": "81a876702353d77a",
   "metadata": {
    "ExecuteTime": {
     "end_time": "2023-12-28T03:50:55.387425Z",
     "start_time": "2023-12-28T03:50:55.237266Z"
    },
    "collapsed": false
   },
   "outputs": [],
   "source": [
    "\n",
    "\n",
    "for item in data['items']:\n",
    "    article = dict(\n",
    "        arxiv_id=item['id'],\n",
    "        title=item['title'],\n",
    "        abstract=item['summary'],\n",
    "        link=item['link'],\n",
    "        published=item['published'],\n",
    "        authors=[author['name'] for author in item['authors']],\n",
    "    )\n",
    "\n",
    "    httpx.post(\"http://localhost:8000/articles/\", json=article)\n"
   ]
  },
  {
   "cell_type": "code",
   "execution_count": null,
   "id": "b762b4e0df1864f2",
   "metadata": {
    "ExecuteTime": {
     "end_time": "2023-12-28T03:50:55.466921Z",
     "start_time": "2023-12-28T03:50:55.448687Z"
    },
    "collapsed": false
   },
   "outputs": [],
   "source": [
    "# data = {\n",
    "#     \"model\": \"llama2\",\n",
    "#     \"prompt\": \"Context: The effective electron-electron interaction in the electron gas depends on both the density and spin local field factors. Variational Diagrammatic Quantum Monte Carlo calculations of the spin local field factor are reported and used to quantitatively present the full spin-dependent, electron-electron interaction. Together with the charge local field factor from previous Diffusion Quantum Monte Carlo calculations, we obtain the complete form of the effective electron-electron interaction in the uniform three-dimensional electron gas. Very simple quadratic formulas are presented for the local field factors that quantitatively produce all of the response functions of the electron gas at metallic densities. Exchange and correlation become increasingly important at low densities. At the compressibility divergence at rs = 5.25, both the direct (screened Coulomb) term and the charge-dependent exchange term in the electron-electron interaction at q=0 are separately divergent. However, due to large cancellations, their difference is finite, well behaved, and much smaller than either term separately. As a result, the spin contribution to the electron-electron interaction becomes an important factor. The static electron-electron interaction is repulsive as a function of density but is less repulsive for electrons with parallel spins. The effect of allowing a deformable, rather than rigid, positive background is shown to be as quantitatively important as exchange and correlation. As a simple concrete example, the electron-electron interaction is calculated using the measured bulk modulus of the alkali metals with a linear phonon dispersion. The net electron-electron interaction in lithium is attractive for wave vectors $0-2k_F$, which suggests superconductivity, and is mostly repulsive for the other alkali metals.\\n\\nThe effect of the electron-electron cusp on the convergence of configuration interaction (CI) wave functions is examined. By analogy with the pseudopotential approach for electron-ion interactions, an effective electron-electron interaction is developed which closely reproduces the scattering of the Coulomb interaction but is smooth and finite at zero electron-electron separation. The exact many-electron wave function for this smooth effective interaction has no cusp at zero electron-electron separation. We perform CI and quantum Monte Carlo calculations for He and Be atoms, both with the Coulomb electron-electron interaction and with the smooth effective electron-electron interaction. We find that convergence of the CI expansion of the wave function for the smooth electron-electron interaction is not significantly improved compared with that for the divergent Coulomb interaction for energy differences on the order of 1 mHartree. This shows that, contrary to popular belief, description of the electron-electron cusp is not a limiting factor, to within chemical accuracy, for CI calculations.\\n\\nBased on the metastable electron-pair energy band in a two-dimensional (2D) periodic potential obtained previously by Hai and Castelano [J. Phys.: Condens. Matter 26, 115502 (2014)], we present in this work a Hamiltonian of many electrons consisting of single electrons and electron pairs in the 2D system. The electron-pair states are metastable of energies higher than those of the single-electron states at low electron density. We assume two different scenarios for the single-electron band. When it is considered as the lowest conduction band of a crystal, we compare the obtained Hamiltonian with the phenomenological model Hamiltonian of a boson-fermion mixture proposed by Friedberg and Lee [Phys. Rev. B 40, 6745 (1989)]. Single-electron-electron-pair and electron-pair-electron-pair interaction terms appear in our Hamiltonian and the interaction potentials can be determined from the electron-electron Coulomb interactions. When we consider the single-electron band as the highest valence band of a crystal, we show that holes in this valence band are important for stabilization of the electron-pair states in the system.\\n\\nStarting from the shell structure in atoms and the significant correlation within electron pairs, we distinguish the exchange-correlation effects between two electrons of opposite spins occupying the same orbital from the average correlation among many electrons in a crystal. In the periodic potential of the crystal with lattice constant larger than the effective Bohr radius of the valence electrons, these correlated electron pairs can form a metastable energy band above the corresponding single-electron band separated by an energy gap. In order to determine if these metastable electron pairs can be stabilized, we calculate the many-electron exchange-correlation renormalization and the polaron correction to the two-band system with single electrons and electron pairs. We find that the electron-phonon interaction is essential to counterbalance the Coulomb repulsion and to stabilize the electron pairs. The interplay of the electron-electron and electron-phonon interactions, manifested in the exchange-correlation energies, polaron effects, and screening, is responsible for the formation of electron pairs (bipolarons) that are located on the Fermi surface of the single-electron band.\\n\\nWe probe the strength of electron-electron interactions using magnetoconductivity measurements of two-dimensional non-degenerate electrons on liquid helium at 1.22 K. Our data extend to electron densities that are two orders of magnitude smaller than previously reported. We span both the independent-electron regime where the data are qualitatively described by the self-consistent Born approximation (SCBA), and the strongly-interacting electron regime. At finite fields we observe a crossover from SCBA to Drude theory as a function of electron density.\\n\\n    Question: explain electron ion interaction?\\n\\n    Answer: \",\n",
    "#     \"stream\": True\n",
    "# }"
   ]
  },
  {
   "cell_type": "code",
   "execution_count": null,
   "id": "23e136ec3b5f4a35",
   "metadata": {
    "ExecuteTime": {
     "end_time": "2023-12-28T03:50:55.641657Z",
     "start_time": "2023-12-28T03:50:55.630762Z"
    },
    "collapsed": false
   },
   "outputs": [],
   "source": [
    "# httpx.post(\"http://localhost:11434/api/generate\", json=data, timeout=None).json()"
   ]
  },
  {
   "cell_type": "code",
   "execution_count": null,
   "id": "d6122e6d1b93adc4",
   "metadata": {
    "ExecuteTime": {
     "end_time": "2023-12-28T03:50:56.991248Z",
     "start_time": "2023-12-28T03:50:56.984092Z"
    },
    "collapsed": false
   },
   "outputs": [],
   "source": [
    "question_prompt = \"Answer the question based on the context given below. The answer should only contain information that\\n    is present in the context. The answer should not contain any information that is not present in the context. The\\n    answer should be in your own words and should not be a copy of the context. The answer should be in English and\\n    should be grammatically correct. The answer should be in complete sentences and should be in markdown format.\\n\\n    ###\\n    Context: The effect of the electron-electron cusp on the convergence of configuration interaction (CI) wave functions is examined. By analogy with the pseudopotential approach for electron-ion interactions, an effective electron-electron interaction is developed which closely reproduces the scattering of the Coulomb interaction but is smooth and finite at zero electron-electron separation. The exact many-electron wave function for this smooth effective interaction has no cusp at zero electron-electron separation. We perform CI and quantum Monte Carlo calculations for He and Be atoms, both with the Coulomb electron-electron interaction and with the smooth effective electron-electron interaction. We find that convergence of the CI expansion of the wave function for the smooth electron-electron interaction is not significantly improved compared with that for the divergent Coulomb interaction for energy differences on the order of 1 mHartree. This shows that, contrary to popular belief, description of the electron-electron cusp is not a limiting factor, to within chemical accuracy, for CI calculations.\\n\\nElectron temperature anisotropies and electron beams are nonthermal features of the observed nonequilibrium electron velocity distributions in the solar wind. In collision-poor plasmas these nonequilibrium distributions are expected to be regulated by kinetic instabilities through wave-particle interactions. This study considers electron instabilities driven by the interplay of core electron temperature anisotropies and the electron beam, and firstly gives a comprehensive analysis of instabilities in arbitrary directions to the background magnetic field. It clarifies the dominant parameter regime (e.g., parallel core electron plasma beta $\\\\beta_{\\\\mathrm{ec\\\\parallel}}$, core electron temperature anisotropy $A_{\\\\mathrm{ec}}\\\\equiv T_{\\\\mathrm{ec\\\\perp}}/T_{\\\\mathrm{ec\\\\parallel}}$, and electron beam velocity $V_{\\\\mathrm{eb}}$) for each kind of electron instability (e.g., the electron beam-driven electron acoustic/magnetoacoustic instability, the electron beam-driven whistler instability, the electromagnetic electron cyclotron instability, the electron mirror instability, the electron firehose instability, and the ordinary-mode instability). It finds that the electron beam can destabilize electron acoustic/magnetoacoustic waves in the low-$\\\\beta_{\\\\mathrm{ec\\\\parallel}}$ regime, and whistler waves in the medium- and large-$\\\\beta_{\\\\mathrm{ec\\\\parallel}}$ regime. It also finds that a new oblique fast-magnetosonic/whistler instability is driven by the electron beam with $V_{\\\\mathrm{eb}}\\\\gtrsim7V_{\\\\mathrm{A}}$ in a regime where $\\\\beta_{\\\\mathrm{ec\\\\parallel}}\\\\sim0.1-2$ and $A_{\\\\mathrm{ec}}<1$. Moreover, this study presents electromagnetic responses of each kind of electron instability. These results provide a comprehensive overview for electron instability constraints on core electron temperature anisotropies and electron beams in the solar wind.\\n\\nWe probe the strength of electron-electron interactions using magnetoconductivity measurements of two-dimensional non-degenerate electrons on liquid helium at 1.22 K. Our data extend to electron densities that are two orders of magnitude smaller than previously reported. We span both the independent-electron regime where the data are qualitatively described by the self-consistent Born approximation (SCBA), and the strongly-interacting electron regime. At finite fields we observe a crossover from SCBA to Drude theory as a function of electron density.\\n\\nIt is assumed that, in the primordial plasma, at the temperatures above the mass of electron, fermions are in the neutral state being the superposition of particle and antiparticle. There exists neutral proton-electron symmetry. Proton-electron equilibrium is defined by the proton-electron mass difference. At the temperature equal to the mass of electron, pairs of neutral electrons annihilate into photons, and pairs of neutral protons and electrons survive as protons and electrons.\\n\\nWe calculate the thermal conductivity of electrons produced by electron-electron Coulomb scattering in a strongly degenerate electron gas taking into account the Landau damping of transverse plasmons. The Landau damping strongly reduces this conductivity in the domain of ultrarelativistic electrons at temperatures below the electron plasma temperature. In the inner crust of a neutron star at temperatures T < 1e7 K this thermal conductivity completely dominates over the electron conductivity due to electron-ion (electron-phonon) scattering and becomes competitive with the the electron conductivity due to scattering of electrons by impurity ions.\\n\\n    Question: explain electron ion interaction?\\n\\n    Answer: \""
   ]
  },
  {
   "cell_type": "code",
   "execution_count": null,
   "id": "ac574dfd8b4abd8e",
   "metadata": {
    "ExecuteTime": {
     "end_time": "2023-12-28T03:54:04.942310Z",
     "start_time": "2023-12-28T03:54:04.936624Z"
    },
    "collapsed": false
   },
   "outputs": [],
   "source": [
    "\n",
    "\n",
    "async def get_stream():\n",
    "    async with httpx.AsyncClient() as client:\n",
    "        data = {'model': \"dolphin-phi\", 'prompt': question_prompt, 'stream': True}\n",
    "        request = client.build_request(\"POST\", \"http://localhost:11434/api/generate\", json=data, timeout=None)\n",
    "        r = await client.send(request, stream=True)\n",
    "        async for chunk in r.aiter_text():\n",
    "            with contextlib.suppress(JSONDecodeError):\n",
    "                json_chunk = json.loads(chunk)\n",
    "                print(json_chunk['response'])"
   ]
  },
  {
   "cell_type": "code",
   "execution_count": null,
   "id": "69d140f2b066140d",
   "metadata": {
    "ExecuteTime": {
     "end_time": "2023-12-28T03:54:56.027374Z",
     "start_time": "2023-12-28T03:54:05.731846Z"
    },
    "collapsed": false
   },
   "outputs": [],
   "source": [
    "await get_stream()"
   ]
  },
  {
   "cell_type": "code",
   "execution_count": null,
   "id": "11726df21f4716e5",
   "metadata": {
    "ExecuteTime": {
     "end_time": "2023-12-28T04:15:02.808964Z",
     "start_time": "2023-12-28T04:15:02.804537Z"
    },
    "collapsed": false
   },
   "outputs": [],
   "source": [
    "import contextlib\n",
    "from json import JSONDecodeError\n",
    "completed = False\n",
    "\n",
    "async def get_stream():\n",
    "    async with httpx.AsyncClient() as client:\n",
    "        request = client.build_request(\"GET\", \"http://localhost:8000/articles/search/?question=explain%20electron%20ion%20interaction&score_threshold=0.1&with_answer=true\", timeout=None)\n",
    "        r = await client.send(request, stream=True)\n",
    "        async for chunk in r.aiter_text():\n",
    "            with contextlib.suppress(JSONDecodeError):\n",
    "                json_chunk = json.loads(chunk)\n",
    "                print(json_chunk)\n",
    "                \n",
    "        print(\"done\")\n",
    "        completed = True"
   ]
  },
  {
   "cell_type": "code",
   "execution_count": null,
   "id": "34edba57ed8b6036",
   "metadata": {
    "ExecuteTime": {
     "end_time": "2023-12-28T04:15:45.474044Z",
     "start_time": "2023-12-28T04:15:03.243138Z"
    },
    "collapsed": false
   },
   "outputs": [],
   "source": [
    "await get_stream()"
   ]
  }
 ],
 "metadata": {
  "kernelspec": {
   "display_name": "Python 3",
   "language": "python",
   "name": "python3"
  },
  "language_info": {
   "codemirror_mode": {
    "name": "ipython",
    "version": 3
   },
   "file_extension": ".py",
   "mimetype": "text/x-python",
   "name": "python",
   "nbconvert_exporter": "python",
   "pygments_lexer": "ipython3",
   "version": "3.11.4"
  }
 },
 "nbformat": 4,
 "nbformat_minor": 5
}
