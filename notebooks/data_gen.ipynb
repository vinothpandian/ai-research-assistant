{
 "cells": [
  {
   "cell_type": "code",
   "execution_count": 4,
   "id": "initial_id",
   "metadata": {
    "collapsed": true,
    "ExecuteTime": {
     "end_time": "2023-12-28T23:01:25.292609Z",
     "start_time": "2023-12-28T23:01:25.252239Z"
    }
   },
   "outputs": [],
   "source": [
    "\n",
    "from datasets import load_dataset\n",
    "\n",
    "from core.schema.article import CreateArticle"
   ]
  },
  {
   "cell_type": "code",
   "outputs": [],
   "source": [
    "dataset = load_dataset('allenai/qasper')"
   ],
   "metadata": {
    "collapsed": false,
    "ExecuteTime": {
     "end_time": "2023-12-28T23:01:26.137425Z",
     "start_time": "2023-12-28T23:01:25.295235Z"
    }
   },
   "id": "55ec9d2994996aa1",
   "execution_count": 5
  },
  {
   "cell_type": "code",
   "outputs": [
    {
     "data": {
      "text/plain": "['ARXIV:1909.00694', 'ARXIV:2003.07723']"
     },
     "execution_count": 9,
     "metadata": {},
     "output_type": "execute_result"
    }
   ],
   "source": [
    "articles = []\n",
    "\n",
    "batch_size = 2\n",
    "\n",
    "for x in dataset['train']:\n",
    "    article = CreateArticle(\n",
    "        arxiv_id=x['id'],\n",
    "        title=x['title'],\n",
    "        abstract=x['abstract'],\n",
    "        link=f\"https://arxiv.org/abs/{x['id']}\",\n",
    "        published=\"2001-02-28\",\n",
    "        authors=[],\n",
    "    )\n",
    "    articles.append(article)\n",
    "\n",
    "    batch_size -= 1\n",
    "    if batch_size == 0:\n",
    "        break\n",
    "\n",
    "article_ids = [f\"ARXIV:{x.arxiv_id}\" for x in articles]\n",
    "# httpx.get(\"https://api.semanticscholar.org/graph/v1/paper/batch\", params=dict(\n",
    "#     fields=\"\"\n",
    "# ))\n",
    "\n",
    "article_ids"
   ],
   "metadata": {
    "collapsed": false,
    "ExecuteTime": {
     "end_time": "2023-12-28T23:03:03.406129Z",
     "start_time": "2023-12-28T23:03:03.400225Z"
    }
   },
   "id": "20a9a9fa45f276b0",
   "execution_count": 9
  },
  {
   "cell_type": "code",
   "outputs": [],
   "source": [
    "import httpx\n",
    "\n",
    "data = httpx.post(\"https://api.semanticscholar.org/graph/v1/paper/batch\", \n",
    "           params=dict(fields=\"publicationDate,authors\"),\n",
    "           json={\"ids\": article_ids})"
   ],
   "metadata": {
    "collapsed": false,
    "ExecuteTime": {
     "end_time": "2023-12-28T23:04:24.749694Z",
     "start_time": "2023-12-28T23:04:24.592153Z"
    }
   },
   "id": "1dd2de797a5d677d",
   "execution_count": 16
  },
  {
   "cell_type": "code",
   "outputs": [
    {
     "data": {
      "text/plain": "[{'paperId': '27e04b42da1d1535eb9752195b7c1c6d662bc313',\n  'publicationDate': '2019-09-01',\n  'authors': [{'authorId': '2065481276', 'name': 'Jun Saito'},\n   {'authorId': '2606962', 'name': 'Yugo Murawaki'},\n   {'authorId': '1795664', 'name': 'S. Kurohashi'}]},\n {'paperId': '132593995892a5918090320a86c120c7db8c3f0a',\n  'publicationDate': '2020-03-17',\n  'authors': [{'authorId': '87270805', 'name': 'T. Haider'},\n   {'authorId': '2620186', 'name': 'Steffen Eger'},\n   {'authorId': '9277025', 'name': 'Evgeny Kim'},\n   {'authorId': '66339110', 'name': 'Roman Klinger'},\n   {'authorId': '2053770939', 'name': 'Winfried Menninghaus'}]}]"
     },
     "execution_count": 17,
     "metadata": {},
     "output_type": "execute_result"
    }
   ],
   "source": [
    "data.json()"
   ],
   "metadata": {
    "collapsed": false,
    "ExecuteTime": {
     "end_time": "2023-12-28T23:04:25.452643Z",
     "start_time": "2023-12-28T23:04:25.449089Z"
    }
   },
   "id": "379dd261df5c2b28",
   "execution_count": 17
  },
  {
   "cell_type": "code",
   "outputs": [],
   "source": [],
   "metadata": {
    "collapsed": false
   },
   "id": "f766d402f8ec2fec"
  }
 ],
 "metadata": {
  "kernelspec": {
   "display_name": "Python 3",
   "language": "python",
   "name": "python3"
  },
  "language_info": {
   "codemirror_mode": {
    "name": "ipython",
    "version": 2
   },
   "file_extension": ".py",
   "mimetype": "text/x-python",
   "name": "python",
   "nbconvert_exporter": "python",
   "pygments_lexer": "ipython2",
   "version": "2.7.6"
  }
 },
 "nbformat": 4,
 "nbformat_minor": 5
}
