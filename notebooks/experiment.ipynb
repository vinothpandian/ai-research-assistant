{
 "cells": [
  {
   "cell_type": "code",
   "outputs": [],
   "source": [
    "import feedparser"
   ],
   "metadata": {
    "collapsed": false,
    "ExecuteTime": {
     "end_time": "2023-12-26T21:31:56.984786Z",
     "start_time": "2023-12-26T21:31:56.965898Z"
    }
   },
   "id": "ef46aa1f86a30c92",
   "execution_count": 1
  },
  {
   "cell_type": "code",
   "outputs": [],
   "source": [
    "feed = feedparser.parse('https://export.arxiv.org/api/query?search_query=all:electron&start=0&max_results=10')"
   ],
   "metadata": {
    "collapsed": false,
    "ExecuteTime": {
     "end_time": "2023-12-26T21:31:57.319695Z",
     "start_time": "2023-12-26T21:31:56.986258Z"
    }
   },
   "id": "da4e132e26fa9847",
   "execution_count": 2
  },
  {
   "cell_type": "code",
   "outputs": [
    {
     "data": {
      "text/plain": "dict_keys(['bozo', 'entries', 'feed', 'headers', 'href', 'status', 'encoding', 'version', 'namespaces'])"
     },
     "execution_count": 3,
     "metadata": {},
     "output_type": "execute_result"
    }
   ],
   "source": [
    "feed.keys()"
   ],
   "metadata": {
    "collapsed": false,
    "ExecuteTime": {
     "end_time": "2023-12-26T21:31:57.324376Z",
     "start_time": "2023-12-26T21:31:57.321829Z"
    }
   },
   "id": "36add2a768dbd207",
   "execution_count": 3
  },
  {
   "cell_type": "code",
   "outputs": [],
   "source": [
    "import json\n",
    "\n",
    "with open('feed.json', 'w') as f:\n",
    "    json.dump(feed, f)"
   ],
   "metadata": {
    "collapsed": false,
    "ExecuteTime": {
     "end_time": "2023-12-26T21:31:57.329307Z",
     "start_time": "2023-12-26T21:31:57.325036Z"
    }
   },
   "id": "2140b9e77a310460",
   "execution_count": 4
  },
  {
   "cell_type": "code",
   "outputs": [
    {
     "data": {
      "text/plain": "dict_keys(['id', 'guidislink', 'link', 'updated', 'updated_parsed', 'published', 'published_parsed', 'title', 'title_detail', 'summary', 'summary_detail', 'authors', 'author_detail', 'arxiv_affiliation', 'author', 'arxiv_doi', 'links', 'arxiv_comment', 'arxiv_journal_ref', 'arxiv_primary_category', 'tags'])"
     },
     "execution_count": 5,
     "metadata": {},
     "output_type": "execute_result"
    }
   ],
   "source": [
    "feed['entries'][0].keys()"
   ],
   "metadata": {
    "collapsed": false,
    "ExecuteTime": {
     "end_time": "2023-12-26T21:31:57.335901Z",
     "start_time": "2023-12-26T21:31:57.330102Z"
    }
   },
   "id": "aefa838e669a9827",
   "execution_count": 5
  },
  {
   "cell_type": "code",
   "outputs": [
    {
     "data": {
      "text/plain": "{'id': 'http://arxiv.org/abs/cond-mat/0102536v1',\n 'guidislink': True,\n 'link': 'http://arxiv.org/abs/cond-mat/0102536v1',\n 'updated': '2001-02-28T20:12:09Z',\n 'updated_parsed': time.struct_time(tm_year=2001, tm_mon=2, tm_mday=28, tm_hour=20, tm_min=12, tm_sec=9, tm_wday=2, tm_yday=59, tm_isdst=0),\n 'published': '2001-02-28T20:12:09Z',\n 'published_parsed': time.struct_time(tm_year=2001, tm_mon=2, tm_mday=28, tm_hour=20, tm_min=12, tm_sec=9, tm_wday=2, tm_yday=59, tm_isdst=0),\n 'title': 'Impact of Electron-Electron Cusp on Configuration Interaction Energies',\n 'title_detail': {'type': 'text/plain',\n  'language': None,\n  'base': 'https://export.arxiv.org/api/query?search_query=all:electron&start=0&max_results=10',\n  'value': 'Impact of Electron-Electron Cusp on Configuration Interaction Energies'},\n 'summary': 'The effect of the electron-electron cusp on the convergence of configuration\\ninteraction (CI) wave functions is examined. By analogy with the\\npseudopotential approach for electron-ion interactions, an effective\\nelectron-electron interaction is developed which closely reproduces the\\nscattering of the Coulomb interaction but is smooth and finite at zero\\nelectron-electron separation. The exact many-electron wave function for this\\nsmooth effective interaction has no cusp at zero electron-electron separation.\\nWe perform CI and quantum Monte Carlo calculations for He and Be atoms, both\\nwith the Coulomb electron-electron interaction and with the smooth effective\\nelectron-electron interaction. We find that convergence of the CI expansion of\\nthe wave function for the smooth electron-electron interaction is not\\nsignificantly improved compared with that for the divergent Coulomb interaction\\nfor energy differences on the order of 1 mHartree. This shows that, contrary to\\npopular belief, description of the electron-electron cusp is not a limiting\\nfactor, to within chemical accuracy, for CI calculations.',\n 'summary_detail': {'type': 'text/plain',\n  'language': None,\n  'base': 'https://export.arxiv.org/api/query?search_query=all:electron&start=0&max_results=10',\n  'value': 'The effect of the electron-electron cusp on the convergence of configuration\\ninteraction (CI) wave functions is examined. By analogy with the\\npseudopotential approach for electron-ion interactions, an effective\\nelectron-electron interaction is developed which closely reproduces the\\nscattering of the Coulomb interaction but is smooth and finite at zero\\nelectron-electron separation. The exact many-electron wave function for this\\nsmooth effective interaction has no cusp at zero electron-electron separation.\\nWe perform CI and quantum Monte Carlo calculations for He and Be atoms, both\\nwith the Coulomb electron-electron interaction and with the smooth effective\\nelectron-electron interaction. We find that convergence of the CI expansion of\\nthe wave function for the smooth electron-electron interaction is not\\nsignificantly improved compared with that for the divergent Coulomb interaction\\nfor energy differences on the order of 1 mHartree. This shows that, contrary to\\npopular belief, description of the electron-electron cusp is not a limiting\\nfactor, to within chemical accuracy, for CI calculations.'},\n 'authors': [{'name': 'David Prendergast'},\n  {'name': 'M. Nolan'},\n  {'name': 'Claudia Filippi'},\n  {'name': 'Stephen Fahy'},\n  {'name': 'J. C. Greer'}],\n 'author_detail': {'name': 'J. C. Greer'},\n 'arxiv_affiliation': 'NMRC, University College, Cork, Ireland',\n 'author': 'J. C. Greer',\n 'arxiv_doi': '10.1063/1.1383585',\n 'links': [{'title': 'doi',\n   'href': 'http://dx.doi.org/10.1063/1.1383585',\n   'rel': 'related',\n   'type': 'text/html'},\n  {'href': 'http://arxiv.org/abs/cond-mat/0102536v1',\n   'rel': 'alternate',\n   'type': 'text/html'},\n  {'title': 'pdf',\n   'href': 'http://arxiv.org/pdf/cond-mat/0102536v1',\n   'rel': 'related',\n   'type': 'application/pdf'}],\n 'arxiv_comment': '11 pages, 6 figures, 3 tables, LaTeX209, submitted to The Journal of\\n  Chemical Physics',\n 'arxiv_journal_ref': 'J. Chem. Phys. 115, 1626 (2001)',\n 'arxiv_primary_category': {'term': 'cond-mat.str-el',\n  'scheme': 'http://arxiv.org/schemas/atom'},\n 'tags': [{'term': 'cond-mat.str-el',\n   'scheme': 'http://arxiv.org/schemas/atom',\n   'label': None}]}"
     },
     "execution_count": 6,
     "metadata": {},
     "output_type": "execute_result"
    }
   ],
   "source": [
    "feed['entries'][0]"
   ],
   "metadata": {
    "collapsed": false,
    "ExecuteTime": {
     "end_time": "2023-12-26T21:31:57.339040Z",
     "start_time": "2023-12-26T21:31:57.335320Z"
    }
   },
   "id": "4c3690d47b9b20fa",
   "execution_count": 6
  },
  {
   "cell_type": "code",
   "outputs": [],
   "source": [
    "from core.schema import Article"
   ],
   "metadata": {
    "collapsed": false,
    "ExecuteTime": {
     "end_time": "2023-12-26T21:31:57.404713Z",
     "start_time": "2023-12-26T21:31:57.337861Z"
    }
   },
   "id": "a3a676670dafd4b1",
   "execution_count": 7
  },
  {
   "cell_type": "code",
   "outputs": [
    {
     "data": {
      "text/plain": "Article(title='Impact of Electron-Electron Cusp on Configuration Interaction Energies', summary='The effect of the electron-electron cusp on the convergence of configuration\\ninteraction (CI) wave functions is examined. By analogy with the\\npseudopotential approach for electron-ion interactions, an effective\\nelectron-electron interaction is developed which closely reproduces the\\nscattering of the Coulomb interaction but is smooth and finite at zero\\nelectron-electron separation. The exact many-electron wave function for this\\nsmooth effective interaction has no cusp at zero electron-electron separation.\\nWe perform CI and quantum Monte Carlo calculations for He and Be atoms, both\\nwith the Coulomb electron-electron interaction and with the smooth effective\\nelectron-electron interaction. We find that convergence of the CI expansion of\\nthe wave function for the smooth electron-electron interaction is not\\nsignificantly improved compared with that for the divergent Coulomb interaction\\nfor energy differences on the order of 1 mHartree. This shows that, contrary to\\npopular belief, description of the electron-electron cusp is not a limiting\\nfactor, to within chemical accuracy, for CI calculations.', link='http://arxiv.org/abs/cond-mat/0102536v1', authors=[Author(name='David Prendergast'), Author(name='M. Nolan'), Author(name='Claudia Filippi'), Author(name='Stephen Fahy'), Author(name='J. C. Greer')])"
     },
     "execution_count": 8,
     "metadata": {},
     "output_type": "execute_result"
    }
   ],
   "source": [
    "Article.model_validate(feed['entries'][0])"
   ],
   "metadata": {
    "collapsed": false,
    "ExecuteTime": {
     "end_time": "2023-12-26T21:31:57.408115Z",
     "start_time": "2023-12-26T21:31:57.405760Z"
    }
   },
   "id": "f0e46cd9f1e8d2fe",
   "execution_count": 8
  },
  {
   "cell_type": "code",
   "outputs": [],
   "source": [],
   "metadata": {
    "collapsed": false,
    "ExecuteTime": {
     "end_time": "2023-12-26T21:31:57.410983Z",
     "start_time": "2023-12-26T21:31:57.407792Z"
    }
   },
   "id": "e5986ad3ed04b060",
   "execution_count": 8
  }
 ],
 "metadata": {
  "kernelspec": {
   "display_name": "Python 3",
   "language": "python",
   "name": "python3"
  },
  "language_info": {
   "codemirror_mode": {
    "name": "ipython",
    "version": 2
   },
   "file_extension": ".py",
   "mimetype": "text/x-python",
   "name": "python",
   "nbconvert_exporter": "python",
   "pygments_lexer": "ipython2",
   "version": "2.7.6"
  }
 },
 "nbformat": 4,
 "nbformat_minor": 5
}
